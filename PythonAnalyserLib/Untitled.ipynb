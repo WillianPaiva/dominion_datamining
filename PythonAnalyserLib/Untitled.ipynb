{
 "cells": [
  {
   "cell_type": "code",
   "execution_count": 12,
   "metadata": {
    "collapsed": true
   },
   "outputs": [],
   "source": [
    "from DominionAnalyser.Analysers import Tools\n",
    "from DominionAnalyser.Mongo import MongoInterface\n",
    "import plotly.plotly as py\n",
    "import plotly.graph_objs as go"
   ]
  },
  {
   "cell_type": "code",
   "execution_count": 2,
   "metadata": {
    "collapsed": false
   },
   "outputs": [
    {
     "name": "stderr",
     "output_type": "stream",
     "text": [
      "0%                                                                  100%\n",
      "[######################################################################] | ETA: 00:00:00 | Item ID: 5703e6522336eb5ea0c69850\n",
      "Total time elapsed: 00:05:51\n"
     ]
    }
   ],
   "source": [
    "Tools.generate_player_table()"
   ]
  },
  {
   "cell_type": "code",
   "execution_count": 3,
   "metadata": {
    "collapsed": false
   },
   "outputs": [
    {
     "name": "stderr",
     "output_type": "stream",
     "text": [
      "0%                                                                  100%\n",
      "[######################################################################] | ETA: 00:00:00 | Item ID: 5703e5d82336eb5ea0c66304\n",
      "Total time elapsed: 00:15:16\n"
     ]
    }
   ],
   "source": [
    "Tools.generate_elo()"
   ]
  },
  {
   "cell_type": "code",
   "execution_count": 5,
   "metadata": {
    "collapsed": false
   },
   "outputs": [
    {
     "name": "stdout",
     "output_type": "stream",
     "text": [
      "['searsjs']\n"
     ]
    }
   ],
   "source": [
    "print(MongoInterface.logs_col.find_one().get(\"winners\"))"
   ]
  },
  {
   "cell_type": "code",
   "execution_count": 6,
   "metadata": {
    "collapsed": false
   },
   "outputs": [
    {
     "name": "stderr",
     "output_type": "stream",
     "text": [
      "0%                                              100%\n",
      "[##################################################] | ETA: 00:00:00 | Item ID: 5703e4ff2336eb5ea0c5dd9f\n",
      "Total time elapsed: 00:00:00\n"
     ]
    }
   ],
   "source": [
    "playerCurve = Tools.generate_player_elo_curve(\"searsjs\")"
   ]
  },
  {
   "cell_type": "code",
   "execution_count": 10,
   "metadata": {
    "collapsed": false
   },
   "outputs": [],
   "source": [
    "index = list(range(len(playerCurve)))"
   ]
  },
  {
   "cell_type": "code",
   "execution_count": 13,
   "metadata": {
    "collapsed": false
   },
   "outputs": [],
   "source": [
    "trace0 = go.Scatter(\n",
    "    x = index,\n",
    "    y = playerCurve,\n",
    "    name = 'searsjs elo curve',\n",
    "    line = dict(\n",
    "        color = ('rgb(205, 12, 24)'),\n",
    "        width = 4)\n",
    ")"
   ]
  },
  {
   "cell_type": "code",
   "execution_count": 14,
   "metadata": {
    "collapsed": true
   },
   "outputs": [],
   "source": [
    "data = [trace0]"
   ]
  },
  {
   "cell_type": "code",
   "execution_count": 15,
   "metadata": {
    "collapsed": true
   },
   "outputs": [],
   "source": [
    "layout = dict(title = 'elo curve',\n",
    "              xaxis = dict(title = 'matchs'),\n",
    "              yaxis = dict(title = 'elo'),\n",
    "              )"
   ]
  },
  {
   "cell_type": "code",
   "execution_count": 17,
   "metadata": {
    "collapsed": false
   },
   "outputs": [
    {
     "name": "stdout",
     "output_type": "stream",
     "text": [
      "High five! You successfuly sent some data to your account on plotly. View your plot in your browser at https://plot.ly/~WillianPaiva/0 or inside your plot.ly account where it is named 'styled-line'\n"
     ]
    },
    {
     "data": {
      "text/html": [
       "<iframe id=\"igraph\" scrolling=\"no\" style=\"border:none;\" seamless=\"seamless\" src=\"https://plot.ly/~WillianPaiva/0.embed\" height=\"525px\" width=\"100%\"></iframe>"
      ],
      "text/plain": [
       "<plotly.tools.PlotlyDisplay object>"
      ]
     },
     "execution_count": 17,
     "metadata": {},
     "output_type": "execute_result"
    }
   ],
   "source": [
    "py.sign_in('******', '*****')\n",
    "fig = dict(data=data, layout=layout)\n",
    "py.iplot(fig, filename='styled-line')"
   ]
  },
  {
   "cell_type": "code",
   "execution_count": 18,
   "metadata": {
    "collapsed": false
   },
   "outputs": [
    {
     "name": "stderr",
     "output_type": "stream",
     "text": [
      "0%                                                                  100%\n",
      "[######################################################################] | ETA: 00:00:00 | Item ID: 5703e6522336eb5ea0c69850\n",
      "Total time elapsed: 00:02:26\n"
     ]
    }
   ],
   "source": [
    "greening = Tools.generate_greening_list()"
   ]
  },
  {
   "cell_type": "code",
   "execution_count": 25,
   "metadata": {
    "collapsed": false
   },
   "outputs": [
    {
     "name": "stdout",
     "output_type": "stream",
     "text": [
      "High five! You successfuly sent some data to your account on plotly. View your plot in your browser at https://plot.ly/~WillianPaiva/0 or inside your plot.ly account where it is named 'styled-line'\n"
     ]
    },
    {
     "data": {
      "text/html": [
       "<iframe id=\"igraph\" scrolling=\"no\" style=\"border:none;\" seamless=\"seamless\" src=\"https://plot.ly/~WillianPaiva/0.embed\" height=\"525px\" width=\"100%\"></iframe>"
      ],
      "text/plain": [
       "<plotly.tools.PlotlyDisplay object>"
      ]
     },
     "execution_count": 25,
     "metadata": {},
     "output_type": "execute_result"
    }
   ],
   "source": [
    "index =[]\n",
    "value =[]\n",
    "for k in sorted(greening):\n",
    "    index.append(k)\n",
    "    value.append(greening[k])\n",
    "    \n",
    "    \n",
    "trace0 = go.Scatter(\n",
    "    x = index,\n",
    "    y = value,\n",
    "    name = 'greening curve',\n",
    "    line = dict(\n",
    "        color = ('rgb(205, 12, 24)'),\n",
    "        width = 4)\n",
    ")\n",
    "\n",
    "data = [trace0]\n",
    "\n",
    "layout = dict(title = 'greening curve',\n",
    "              xaxis = dict(title = 'turn'),\n",
    "              yaxis = dict(title = 'pertinence'),\n",
    "              )\n",
    "py.sign_in('*******', '********')\n",
    "fig = dict(data=data, layout=layout)\n",
    "py.iplot(fig, filename='styled-line')"
   ]
  },
  {
   "cell_type": "code",
   "execution_count": null,
   "metadata": {
    "collapsed": false
   },
   "outputs": [],
   "source": [
    "\n"
   ]
  },
  {
   "cell_type": "code",
   "execution_count": null,
   "metadata": {
    "collapsed": true
   },
   "outputs": [],
   "source": []
  }
 ],
 "metadata": {
  "kernelspec": {
   "display_name": "Python 3",
   "language": "python",
   "name": "python3"
  },
  "language_info": {
   "codemirror_mode": {
    "name": "ipython",
    "version": 3
   },
   "file_extension": ".py",
   "mimetype": "text/x-python",
   "name": "python",
   "nbconvert_exporter": "python",
   "pygments_lexer": "ipython3",
   "version": "3.5.1"
  }
 },
 "nbformat": 4,
 "nbformat_minor": 0
}
